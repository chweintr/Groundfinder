{
 "cells": [
  {
   "cell_type": "markdown",
   "metadata": {},
   "source": [
    "# GroundFinder Pipeline Demo\n",
    "\n",
    "Use this notebook to experiment with the same analysis helpers that power the API."
   ]
  },
  {
   "cell_type": "code",
   "execution_count": null,
   "metadata": {},
   "outputs": [],
   "source": [
    "from pathlib import Path\n",
    "\n",
    "from app.analysis import analyze_image, find_value_mode\n",
    "from app.mask_ops import generate_mask\n",
    "from app.ground import detect_ground_cluster\n",
    "\n",
    "image_path = Path('..') / 'samples' / 'gray-table-lemons.png'\n",
    "with image_path.open('rb') as fh:\n",
    "    analysis = analyze_image(fh.read())\n",
    "\n",
    "peak, band = find_value_mode(analysis.value_histogram)\n",
    "print('Value peak bin:', peak, 'band:', band)"
   ]
  },
  {
   "cell_type": "markdown",
   "metadata": {},
   "source": [
    "Try adjusting the mask mode to see how the overlays respond."
   ]
  },
  {
   "cell_type": "code",
   "execution_count": null,
   "metadata": {},
   "outputs": [],
   "source": [
    "mask = generate_mask(\n",
    "    analysis,\n",
    "    mode='value',\n",
    "    value_range=(band[0], band[1]),\n",
    ")\n",
    "print('Masked pixels:', mask.sum())\n",
    "ground_rank = detect_ground_cluster(analysis)\n",
    "print('Detected ground cluster:', ground_rank)"
   ]
  }
 ],
 "metadata": {
  "kernelspec": {
   "display_name": "Python 3",
   "language": "python",
   "name": "python3"
  },
  "language_info": {
   "name": "python",
   "version": "3.13"
  }
 },
 "nbformat": 4,
 "nbformat_minor": 5
}
